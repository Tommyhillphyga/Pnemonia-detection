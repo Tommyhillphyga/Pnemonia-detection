{
 "cells": [
  {
   "cell_type": "markdown",
   "metadata": {
    "id": "Kg9bh0en84lC"
   },
   "source": [
    "# **Pneumonia detection using x-ray images**\n",
    "\n"
   ]
  },
  {
   "cell_type": "code",
   "execution_count": 7,
   "metadata": {
    "colab": {
     "base_uri": "https://localhost:8080/"
    },
    "executionInfo": {
     "elapsed": 16446,
     "status": "ok",
     "timestamp": 1713434289493,
     "user": {
      "displayName": "tom sam",
      "userId": "13557021229720384429"
     },
     "user_tz": -60
    },
    "id": "b_TF2s6P-yHk",
    "outputId": "5d3541d4-36ad-44b5-f3f4-1a4a26aa5360"
   },
   "outputs": [
    {
     "name": "stdout",
     "output_type": "stream",
     "text": [
      "Mounted at /content/Gdrive\n"
     ]
    }
   ],
   "source": [
    "from google.colab import drive\n",
    "drive.mount('/content/Gdrive')"
   ]
  },
  {
   "cell_type": "code",
   "execution_count": 8,
   "metadata": {
    "colab": {
     "base_uri": "https://localhost:8080/"
    },
    "executionInfo": {
     "elapsed": 877,
     "status": "ok",
     "timestamp": 1713434295203,
     "user": {
      "displayName": "tom sam",
      "userId": "13557021229720384429"
     },
     "user_tz": -60
    },
    "id": "Gvme4_BcESp1",
    "outputId": "1e4503b6-c826-445a-cdab-22ea8c2a557e"
   },
   "outputs": [
    {
     "name": "stdout",
     "output_type": "stream",
     "text": [
      "/content/Gdrive/MyDrive/project/pnemonia_detection\n"
     ]
    }
   ],
   "source": [
    "import os\n",
    "%cd /content/Gdrive/MyDrive/project/pnemonia_detection\n",
    "HOME = os.getcwd()\n"
   ]
  },
  {
   "cell_type": "code",
   "execution_count": null,
   "metadata": {
    "id": "ShQKLJMvEZVQ"
   },
   "outputs": [],
   "source": [
    "!pip install gradio langchain\n",
    "!pip install -U langchain-openai"
   ]
  },
  {
   "cell_type": "code",
   "execution_count": null,
   "metadata": {
    "id": "exKpeiC0Jm7W"
   },
   "outputs": [],
   "source": [
    "!pip install --upgrade tensorflow"
   ]
  },
  {
   "cell_type": "markdown",
   "metadata": {
    "id": "9LzuOXf8GYSJ"
   },
   "source": [
    "# Pneumonia  classifer"
   ]
  },
  {
   "cell_type": "code",
   "execution_count": 20,
   "metadata": {
    "executionInfo": {
     "elapsed": 554,
     "status": "ok",
     "timestamp": 1713439634192,
     "user": {
      "displayName": "tom sam",
      "userId": "13557021229720384429"
     },
     "user_tz": -60
    },
    "id": "yPnEvCNkGxi5"
   },
   "outputs": [],
   "source": [
    "import os\n",
    "import itertools\n",
    "\n",
    "# import data handling tools\n",
    "import numpy as np\n",
    "import pandas as pd\n",
    "\n",
    "# import Deep learning Libraries\n",
    "import tensorflow as tf\n",
    "from tensorflow import keras\n",
    "\n",
    "# ignore the warnings\n",
    "import warnings\n",
    "warnings.filterwarnings('ignore')"
   ]
  },
  {
   "cell_type": "code",
   "execution_count": 12,
   "metadata": {
    "executionInfo": {
     "elapsed": 1279,
     "status": "ok",
     "timestamp": 1713436681272,
     "user": {
      "displayName": "tom sam",
      "userId": "13557021229720384429"
     },
     "user_tz": -60
    },
    "id": "Bcqol8pMEgLm"
   },
   "outputs": [],
   "source": [
    "import cv2\n",
    "\n",
    "def Load_classifier ():\n",
    "  # Load the model\n",
    "  model = tf.keras.models.load_model('best_model.h5')\n",
    "  return model\n",
    "\n",
    "def annotator(img, class_label):\n",
    "  pt1 = (50, 45)\n",
    "  text = class_label\n",
    "  text_size = cv2.getTextSize(text, cv2.FONT_HERSHEY_SIMPLEX, 0.6, 2)\n",
    "  text_w, text_h = text_size[0]\n",
    " # Draw the rectangle\n",
    "  cv2.line(img, pt1, (text_w+50, 45), (255,255,255), 25)\n",
    "  cv2.putText(img, text, (50, 50),  cv2.FONT_HERSHEY_SIMPLEX,\n",
    "                    0.6, (0,0,0), 2)\n",
    "\n",
    "def process_data(img):\n",
    "    # img = cv2.imread(img_path)\n",
    "    img = cv2.resize(img, (224, 224))\n",
    "    img = cv2.cvtColor(img, cv2.COLOR_BGR2GRAY)\n",
    "    img = img/255.0\n",
    "    img = np.reshape(img, (224,224,1))\n",
    "\n",
    "    return img\n",
    "\n",
    "def run_inference(img):\n",
    "  img0 = cv2.resize(img, (512, 512))\n",
    "  global class_label\n",
    "  classes = ['Healthy', 'Pneumonia']\n",
    "  model = Load_classifier()\n",
    "  p_img = process_data(img)\n",
    "  p_img = np.expand_dims(p_img, axis=0)\n",
    "\n",
    "\n",
    "  output = model.predict(p_img)\n",
    "  # print(output)\n",
    "  max_index = np.argmax(output)\n",
    "  class_label = classes[max_index]\n",
    "  annotator(img0, class_label)\n",
    "\n",
    "  return img0\n",
    "\n",
    "\n"
   ]
  },
  {
   "cell_type": "markdown",
   "metadata": {
    "id": "jMCPYy-jrdWQ"
   },
   "source": [
    "#chatbot"
   ]
  },
  {
   "cell_type": "code",
   "execution_count": 19,
   "metadata": {
    "executionInfo": {
     "elapsed": 475,
     "status": "ok",
     "timestamp": 1713437189663,
     "user": {
      "displayName": "tom sam",
      "userId": "13557021229720384429"
     },
     "user_tz": -60
    },
    "id": "cbfPHdp34QCk"
   },
   "outputs": [],
   "source": [
    "os.environ[\"OPENAI_API_KEY\"] ='sk-TEbRNi8lPk9t03I99yGIT3BlbkFJ9pJW1ZbgKFSCfWhxy'    # paste your own key"
   ]
  },
  {
   "cell_type": "markdown",
   "metadata": {
    "id": "JWRikvkllF5k"
   },
   "source": [
    "# Chatbot function"
   ]
  },
  {
   "cell_type": "code",
   "execution_count": 21,
   "metadata": {
    "executionInfo": {
     "elapsed": 599,
     "status": "ok",
     "timestamp": 1713439660817,
     "user": {
      "displayName": "tom sam",
      "userId": "13557021229720384429"
     },
     "user_tz": -60
    },
    "id": "0Cs8xcWJOCVy"
   },
   "outputs": [],
   "source": [
    "from langchain.prompts import PromptTemplate\n",
    "from langchain_openai import ChatOpenAI\n",
    "from langchain.chains import LLMChain\n",
    "\n",
    "model_name = 'gpt-3.5-turbo'\n",
    "\n",
    "llm = ChatOpenAI(model_name=model_name, temperature=0.3)\n",
    "\n",
    "def getResponse (user_message):\n",
    "\n",
    "  pneumonia_info = \"\"\"Pneumonia is a common respiratory infection that inflames the air sacs in one or both lungs.\n",
    "                       It can be caused by bacteria, viruses, or fungi, with bacterial and viral pneumonia being\n",
    "                       the most prevalent types.Symptoms of pneumonia often include cough, fever, difficulty breathing,\n",
    "                       chest pain, fatigue, and sometimes nausea and vomiting. The severity of symptoms can vary depending\n",
    "                        on factors such as age, overall health, and the specific cause of pneumonia.\n",
    "\n",
    "                      Treatment for pneumonia typically involves antibiotics for bacterial pneumonia, antiviral medications\n",
    "                      for viral pneumonia, and supportive care such as rest, staying hydrated, and managing symptoms like fever and cough.\n",
    "                       In severe cases, hospitalization may be necessary, especially for those with weakened immune systems,\n",
    "                       the elderly, or young children. Oxygen therapy and intravenous fluids may be administered in hospitalized\n",
    "                       patients to support recovery. Early detection and prompt treatment are crucial in managing pneumonia\n",
    "                       effectively and preventing complications.\"\"\"\n",
    "\n",
    "  context_info = pneumonia_info\n",
    "\n",
    "  conversation_template  = f\"\"\"\n",
    "                you are a pneumonia medical expert and assistant conversational assistant that help doctors and patients in pneumonia classification informations.\n",
    "                you are provided with some information about the pneumonia diagnosed.\n",
    "\n",
    "                The doctor or patient will ask some questions based on this and you must use your own knowledge to answer those questions.\n",
    "\n",
    "              Information on the pneumonia\n",
    "              Context: {context_info}\n",
    "\n",
    "              user message: {user_message}\n",
    "            \"\"\"\n",
    "\n",
    "  #initialize the embedchain bot\n",
    "  PROMPT = PromptTemplate(\n",
    "        template=conversation_template,\n",
    "        input_variables= ['context_info','user_message']\n",
    "    )\n",
    "\n",
    "  chain = LLMChain(llm=llm, prompt=PROMPT)\n",
    "\n",
    "  response = chain.predict(context_info = context_info, user_message = user_message)\n",
    "\n",
    "  return response\n",
    "\n"
   ]
  },
  {
   "cell_type": "markdown",
   "metadata": {
    "id": "SC3x65oY8bv9"
   },
   "source": [
    "#Application interface"
   ]
  },
  {
   "cell_type": "code",
   "execution_count": 15,
   "metadata": {
    "executionInfo": {
     "elapsed": 4099,
     "status": "ok",
     "timestamp": 1713436709600,
     "user": {
      "displayName": "tom sam",
      "userId": "13557021229720384429"
     },
     "user_tz": -60
    },
    "id": "h8_UdlJesRKA"
   },
   "outputs": [],
   "source": [
    "import gradio as gr\n",
    "import numpy as np\n",
    "from PIL import Image, ImageDraw"
   ]
  },
  {
   "cell_type": "code",
   "execution_count": 16,
   "metadata": {
    "executionInfo": {
     "elapsed": 585,
     "status": "ok",
     "timestamp": 1713436727002,
     "user": {
      "displayName": "tom sam",
      "userId": "13557021229720384429"
     },
     "user_tz": -60
    },
    "id": "OFowUQx9Lj-n"
   },
   "outputs": [],
   "source": [
    "\n",
    "# Create Gradio interface\n",
    "image_input = gr.Image(label=\"Upload Image\", height = 500, width= 700)\n",
    "# print(image_input)\n",
    "object_detection_output = gr.Image(label=\"Pneumonia Detection\", height = 500, width= 700)\n",
    "chat_input = gr.Textbox(lines=2, label=\"Ask a question\")\n",
    "chat_output = gr.Textbox(label=\"Chatbot Response\")\n",
    "\n",
    "title = \"Pneumonia Detection\"\n",
    "title1 = \"Chatbot\"\n",
    "description = \"Upload a X--ray image, and ask questions about the result.\"\n"
   ]
  },
  {
   "cell_type": "markdown",
   "metadata": {
    "id": "2z2Bqku39OV3"
   },
   "source": [
    "#Lunch App"
   ]
  },
  {
   "cell_type": "code",
   "execution_count": 17,
   "metadata": {
    "executionInfo": {
     "elapsed": 1913,
     "status": "ok",
     "timestamp": 1713436778910,
     "user": {
      "displayName": "tom sam",
      "userId": "13557021229720384429"
     },
     "user_tz": -60
    },
    "id": "So7ynVyYHf-k"
   },
   "outputs": [],
   "source": [
    "import time, random\n",
    "\n",
    "with gr.Blocks() as demo1:\n",
    "    with gr.Row():\n",
    "        with gr.Column(scale=1):\n",
    "            detection_interface = gr.Interface(\n",
    "            fn= run_inference,\n",
    "            inputs=image_input,\n",
    "            outputs=object_detection_output,\n",
    "            title=title,\n",
    "            description=description,\n",
    "            allow_flagging='never'  # Disable flagging for simplicity\n",
    "        )\n",
    "\n",
    "    with gr.Row():\n",
    "        with gr.Column(scale=1):\n",
    "              chat_interface = gr.Interface(\n",
    "              fn=getResponse,\n",
    "              inputs=chat_input,\n",
    "              outputs=chat_output,\n",
    "              title=title1,\n",
    "              description=\"Ask questions about the detection.\",\n",
    "              allow_flagging='never'  # Disable flagging for simplicity\n",
    "          )"
   ]
  },
  {
   "cell_type": "code",
   "execution_count": 18,
   "metadata": {
    "colab": {
     "base_uri": "https://localhost:8080/",
     "height": 695
    },
    "executionInfo": {
     "elapsed": 380619,
     "status": "ok",
     "timestamp": 1713437170052,
     "user": {
      "displayName": "tom sam",
      "userId": "13557021229720384429"
     },
     "user_tz": -60
    },
    "id": "6GsvSmeW9KOk",
    "outputId": "5f118431-9798-496e-99f3-6c9fd7323361"
   },
   "outputs": [
    {
     "name": "stdout",
     "output_type": "stream",
     "text": [
      "Colab notebook detected. This cell will run indefinitely so that you can see errors and logs. To turn off, set debug=False in launch().\n",
      "Running on public URL: https://154df7bd870e992b79.gradio.live\n",
      "\n",
      "This share link expires in 72 hours. For free permanent hosting and GPU upgrades, run `gradio deploy` from Terminal to deploy to Spaces (https://huggingface.co/spaces)\n"
     ]
    },
    {
     "data": {
      "text/html": [
       "<div><iframe src=\"https://154df7bd870e992b79.gradio.live\" width=\"100%\" height=\"500\" allow=\"autoplay; camera; microphone; clipboard-read; clipboard-write;\" frameborder=\"0\" allowfullscreen></iframe></div>"
      ],
      "text/plain": [
       "<IPython.core.display.HTML object>"
      ]
     },
     "metadata": {},
     "output_type": "display_data"
    },
    {
     "name": "stderr",
     "output_type": "stream",
     "text": [
      "WARNING:absl:Compiled the loaded model, but the compiled metrics have yet to be built. `model.compile_metrics` will be empty until you train or evaluate the model.\n"
     ]
    },
    {
     "name": "stdout",
     "output_type": "stream",
     "text": [
      "\u001b[1m1/1\u001b[0m \u001b[32m━━━━━━━━━━━━━━━━━━━━\u001b[0m\u001b[37m\u001b[0m \u001b[1m0s\u001b[0m 247ms/step\n"
     ]
    },
    {
     "name": "stderr",
     "output_type": "stream",
     "text": [
      "WARNING:absl:Compiled the loaded model, but the compiled metrics have yet to be built. `model.compile_metrics` will be empty until you train or evaluate the model.\n"
     ]
    },
    {
     "name": "stdout",
     "output_type": "stream",
     "text": [
      "\u001b[1m1/1\u001b[0m \u001b[32m━━━━━━━━━━━━━━━━━━━━\u001b[0m\u001b[37m\u001b[0m \u001b[1m0s\u001b[0m 302ms/step\n",
      "Keyboard interruption in main thread... closing server.\n",
      "Killing tunnel 127.0.0.1:7860 <> https://154df7bd870e992b79.gradio.live\n"
     ]
    },
    {
     "data": {
      "text/plain": []
     },
     "execution_count": 18,
     "metadata": {},
     "output_type": "execute_result"
    }
   ],
   "source": [
    "demo1.launch(share=True, debug = True)"
   ]
  }
 ],
 "metadata": {
  "colab": {
   "authorship_tag": "ABX9TyN3RSaKU0InTB1CJujUcXZa",
   "provenance": []
  },
  "kernelspec": {
   "display_name": "Python 3",
   "name": "python3"
  },
  "language_info": {
   "name": "python"
  }
 },
 "nbformat": 4,
 "nbformat_minor": 0
}
